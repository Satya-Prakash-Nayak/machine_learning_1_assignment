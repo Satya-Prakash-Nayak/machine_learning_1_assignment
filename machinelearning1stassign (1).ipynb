{
 "cells": [
  {
   "cell_type": "markdown",
   "id": "c6419299-818e-455b-82ea-59ce1037521b",
   "metadata": {},
   "source": [
    "## 1:- Explain the following with an example:\n",
    "## i.artificial intelligence\n",
    "## ii.machine learning\n",
    "## iii.deep learning\n",
    "### Artificial Intelligence (AI) refers to the simulation of human intelligence in machines that are programmed to think and learn like humans. Here are some key aspects and examples are AI-powered assistants like Siri, Alexa, and Google Assistant help with tasks such as setting reminders, answering questions, and controlling smart home devices1.\n",
    "\n",
    "### Machine learning is a type of artificial intelligence that allows software applications to become more accurate at predicting outcomes without being explicitly programmed to do so. Examples include:Image Recognition: Used in healthcare for diagnosing diseases from medical images, and in autonomous vehicles for obstacle detection1.\n",
    "\n",
    "### Deep learning is a subset of machine learning that uses neural networks with multiple layers to learn from large amounts of data. Here are some examples of deep learning applications:Image Recognition: Used in applications like facial recognition, medical image analysis, and autonomous vehicles to identify objects, people, and patterns in images"
   ]
  },
  {
   "cell_type": "markdown",
   "id": "40e8347d-91bc-4d9a-bf08-5e51d17cd9b4",
   "metadata": {},
   "source": [
    "## 2-whaat is superised machine learning ? list some supervised machine learning techniques.\n",
    "\n",
    "\n",
    "### ans:- Supervised machine learning is a type of machine learning where the model is trained on labeled data. This means that each training example is paired with an output label. The goal is for the model to learn the relationship between the input data and the output labels so it can make accurate predictions on new, unseen data. ex:- linear regression, decision trees,suport vector machine"
   ]
  },
  {
   "cell_type": "markdown",
   "id": "48552e93-3099-4b5a-b5b9-057343d0becd",
   "metadata": {},
   "source": [
    "## 3:-  what is unsupervised machine learning? list some examples.\n",
    "\n",
    "### ans:-Unsupervised learning is a type of machine learning where the model is trained on unlabeled data. The goal is to identify hidden patterns or intrinsic structures in the input data without any explicit instructions on what to look for. Here are some common techniques and examples of unsupervised learning:\n",
    "### Clustering: This technique groups similar data points together.K-Means Clustering: Used for customer segmentation in marketing to identify distinct customer groups based on purchasing behavior"
   ]
  },
  {
   "cell_type": "markdown",
   "id": "0277a382-d346-4c59-aa93-877aaa4377d4",
   "metadata": {},
   "source": [
    "## 5:-what is the main difference between supervised unsupervised and semi super vised machine learning?\n",
    "\n",
    "\"\"\" Supervised Learning:\n",
    "Data: Uses labeled data, where each input is paired with a known output.\n",
    "Goal: Learn a mapping from inputs to outputs to make predictions on new, unseen data.\n",
    "Examples: Linear regression, logistic regression, decision trees, and support vector machines (SVM)1.\n",
    "Unsupervised Learning:\n",
    "Data: Uses unlabeled data, where the algorithm tries to find patterns or structures without any predefined labels.\n",
    "Goal: Discover hidden patterns or intrinsic structures in the data.\n",
    "Examples: K-means clustering, hierarchical clustering, principal component analysis (PCA), and association rules2.\n",
    "Semi-Supervised Learning:\n",
    "Data: Uses a combination of a small amount of labeled data and a large amount of unlabeled data.\n",
    "Goal: Improve learning accuracy by leveraging the labeled data to guide the learning process on the unlabeled data.\n",
    "Examples: Techniques that combine elements of both supervised and unsupervised learning \"\"\""
   ]
  },
  {
   "cell_type": "markdown",
   "id": "e7ee754f-8c7f-4144-9802-a0cc5402a5de",
   "metadata": {},
   "source": [
    "### 6:- what is train,test, split ? explain the importance of each term.\n",
    "\n",
    "'''ans:- Training Set:\n",
    "Definition: This is the portion of the dataset used to train the model. The model learns the patterns and relationships within this data. \n",
    "Test Set:\n",
    "Definition: This is the portion of the dataset used to evaluate the model’s performance. It is kept separate from the training data and is only used after the model has been trained.\n",
    "Validation Set (optional but often used):\n",
    "Definition: Sometimes, the dataset is further split into a validation set, which is used to tune hyperparameters and make decisions about the model architecture.'''"
   ]
  },
  {
   "cell_type": "markdown",
   "id": "d7e5ed4e-e1d1-4f72-b350-cc2a954a5f76",
   "metadata": {},
   "source": [
    "## Q7:- how can unsupervised learning be used in anomaly detection?\n",
    "'''Unsupervised learning is particularly useful in anomaly detection because it doesn’t require labeled data, which is often unavailable or expensive to obtain.'''"
   ]
  },
  {
   "cell_type": "markdown",
   "id": "60421003-694c-47bb-9ef5-95fcb7091ebf",
   "metadata": {},
   "source": [
    "## Q8 :- list down some commonly used supervised learning algorithms and unsupervised learning algorithms.\n",
    "\n",
    "''' supervised algorithms:- regression, decision trees, support vector machine\n",
    "    unsupervised learning:- k means clustering,PCA, hiararchical clustering'''"
   ]
  },
  {
   "cell_type": "code",
   "execution_count": null,
   "id": "28314d7d-da41-4664-a09d-841dcf32f57f",
   "metadata": {},
   "outputs": [],
   "source": []
  }
 ],
 "metadata": {
  "kernelspec": {
   "display_name": "Python 3 (ipykernel)",
   "language": "python",
   "name": "python3"
  },
  "language_info": {
   "codemirror_mode": {
    "name": "ipython",
    "version": 3
   },
   "file_extension": ".py",
   "mimetype": "text/x-python",
   "name": "python",
   "nbconvert_exporter": "python",
   "pygments_lexer": "ipython3",
   "version": "3.11.7"
  }
 },
 "nbformat": 4,
 "nbformat_minor": 5
}
